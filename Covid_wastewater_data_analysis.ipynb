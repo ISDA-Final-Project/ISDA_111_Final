{
 "cells": [
  {
   "cell_type": "markdown",
   "id": "97015a90",
   "metadata": {},
   "source": [
    "# Covid-19 Wastewater Analysis"
   ]
  },
  {
   "cell_type": "markdown",
   "id": "550f78a5",
   "metadata": {},
   "source": [
    "# Report Summary\n",
    "\n",
    "SARS-CoV-2 has been a major public health crises for almost three years. (expand)\n",
    "\n",
    "\n",
    "Wastewater data is collected..... (expand on how it's collected)\n",
    "\n",
    "This data is valuable because it is anonymous and does not rely on individual reporting. It does not require a person to know they have the virus. Many people do not confirm their cases with a government reported test because they do not realize they have Covid19, or they take a rapid home test and do not use reporting tools on government websites, so their cases are not offically counted. This makes public health measures difficult for stakeholders to navigate. Wastewater data is valuable because  health officials can use this data to make decisions and request funding as well as plan for spikes in cases so that they can ready medical facilities for impending increases. \n",
    "\n",
    "The data collected is limited to watersheds managed by public officials, therefore locations, such as rural areas, that collect wastewater via septic tanks are not included in the dataset. Additionally, cities started their wastewater testing and collection at different times, so increases and decreases of Covid-19 levels are measured relative to the city's previous sample collection. **(Delete: The limitations of this data are... (expand on limitations and areas that don't collect, and how different cites have started collected at different times, some so recent they did not capture the January 2022 spike, which was the highest so far)**\n",
    "\n",
    "1. **Import Python Libraries/Statements**\n",
    "2. **Reading Covid-19 Wasterwater Dataset**\n",
    "3. **Analyzing the Original Dataset** \n",
    "    - Variable descriptions\n",
    "    - Basic information of dataset\n",
    "    \n",
    "4. **Cleaning the Original Dataset** \n",
    "    - Changing datatype for columns \n",
    "    - Removing outliers\n",
    "    - Removing unnecessary columns\n",
    "    - Converting column date datatype\n",
    "5. **Data Visualization**\n",
    "    - Box Plot\n",
    "    - Scatter Plot\n",
    "    - Pie Chart \n",
    "    \n",
    "6. **Questions and Interpretations** \n",
    "7. **Key Findings** \n",
    "8. **Conclusion** \n"
   ]
  },
  {
   "cell_type": "markdown",
   "id": "11a6d54f",
   "metadata": {},
   "source": [
    "## 1. Importing Python Libraries/Statements"
   ]
  },
  {
   "cell_type": "code",
   "execution_count": 100,
   "id": "a8412256",
   "metadata": {},
   "outputs": [],
   "source": [
    "import pandas as pd\n",
    "import matplotlib.pyplot as plt\n",
    "import sklearn\n",
    "import numpy as np\n",
    "import seaborn as sns\n",
    "import datetime\n",
    "from matplotlib import rcParams"
   ]
  },
  {
   "cell_type": "markdown",
   "id": "c6028e1a",
   "metadata": {},
   "source": [
    "## 2. Reading Covid-19 Wastewater Dateset "
   ]
  },
  {
   "cell_type": "markdown",
   "id": "abe5346a",
   "metadata": {},
   "source": [
    "Our data is available on the Centers for Disease Control and Prevention (CDC) website here https://data.cdc.gov/Public-Health-Surveillance/NWSS-Public-SARS-CoV-2-Wastewater-Metric-Data/2ew6-ywp6 "
   ]
  },
  {
   "cell_type": "code",
   "execution_count": 101,
   "id": "80eb6057",
   "metadata": {},
   "outputs": [],
   "source": [
    "df = pd.read_csv(\"NWSS_Public_SARS-CoV-2_Wastewater_Metric_Data (3).csv\", lineterminator='\\n', on_bad_lines=\"warn\", low_memory=False)"
   ]
  },
  {
   "cell_type": "code",
   "execution_count": 102,
   "id": "94f4db27",
   "metadata": {
    "scrolled": true
   },
   "outputs": [
    {
     "data": {
      "text/html": [
       "<div>\n",
       "<style scoped>\n",
       "    .dataframe tbody tr th:only-of-type {\n",
       "        vertical-align: middle;\n",
       "    }\n",
       "\n",
       "    .dataframe tbody tr th {\n",
       "        vertical-align: top;\n",
       "    }\n",
       "\n",
       "    .dataframe thead th {\n",
       "        text-align: right;\n",
       "    }\n",
       "</style>\n",
       "<table border=\"1\" class=\"dataframe\">\n",
       "  <thead>\n",
       "    <tr style=\"text-align: right;\">\n",
       "      <th></th>\n",
       "      <th>wwtp_jurisdiction</th>\n",
       "      <th>wwtp_id</th>\n",
       "      <th>reporting_jurisdiction</th>\n",
       "      <th>sample_location</th>\n",
       "      <th>sample_location_specify</th>\n",
       "      <th>key_plot_id</th>\n",
       "      <th>county_names</th>\n",
       "      <th>county_fips</th>\n",
       "      <th>population_served</th>\n",
       "      <th>date_start</th>\n",
       "      <th>date_end</th>\n",
       "      <th>ptc_15d</th>\n",
       "      <th>detect_prop_15d</th>\n",
       "      <th>percentile</th>\n",
       "      <th>sampling_prior</th>\n",
       "      <th>first_sample_date</th>\n",
       "    </tr>\n",
       "  </thead>\n",
       "  <tbody>\n",
       "    <tr>\n",
       "      <th>0</th>\n",
       "      <td>Arkansas</td>\n",
       "      <td>1548.0</td>\n",
       "      <td>Arkansas</td>\n",
       "      <td>Treatment plant</td>\n",
       "      <td>NaN</td>\n",
       "      <td>CDC_BIOBOT_ar_1548_Treatment plant_raw wastewater</td>\n",
       "      <td>Jefferson</td>\n",
       "      <td>05069</td>\n",
       "      <td>42323</td>\n",
       "      <td>2022-09-11</td>\n",
       "      <td>2022-09-25</td>\n",
       "      <td>NaN</td>\n",
       "      <td>100.0</td>\n",
       "      <td>100.0</td>\n",
       "      <td>no</td>\n",
       "      <td>2022-09-25</td>\n",
       "    </tr>\n",
       "    <tr>\n",
       "      <th>1</th>\n",
       "      <td>Arkansas</td>\n",
       "      <td>1548.0</td>\n",
       "      <td>Arkansas</td>\n",
       "      <td>Treatment plant</td>\n",
       "      <td>NaN</td>\n",
       "      <td>CDC_BIOBOT_ar_1548_Treatment plant_raw wastewater</td>\n",
       "      <td>Jefferson</td>\n",
       "      <td>05069</td>\n",
       "      <td>42323</td>\n",
       "      <td>2022-09-12</td>\n",
       "      <td>2022-09-26</td>\n",
       "      <td>NaN</td>\n",
       "      <td>100.0</td>\n",
       "      <td>100.0</td>\n",
       "      <td>no</td>\n",
       "      <td>2022-09-25</td>\n",
       "    </tr>\n",
       "    <tr>\n",
       "      <th>2</th>\n",
       "      <td>Arkansas</td>\n",
       "      <td>1548.0</td>\n",
       "      <td>Arkansas</td>\n",
       "      <td>Treatment plant</td>\n",
       "      <td>NaN</td>\n",
       "      <td>CDC_BIOBOT_ar_1548_Treatment plant_raw wastewater</td>\n",
       "      <td>Jefferson</td>\n",
       "      <td>05069</td>\n",
       "      <td>42323</td>\n",
       "      <td>2022-09-13</td>\n",
       "      <td>2022-09-27</td>\n",
       "      <td>-98.0</td>\n",
       "      <td>100.0</td>\n",
       "      <td>91.5</td>\n",
       "      <td>no</td>\n",
       "      <td>2022-09-25</td>\n",
       "    </tr>\n",
       "    <tr>\n",
       "      <th>3</th>\n",
       "      <td>Arkansas</td>\n",
       "      <td>1548.0</td>\n",
       "      <td>Arkansas</td>\n",
       "      <td>Treatment plant</td>\n",
       "      <td>NaN</td>\n",
       "      <td>CDC_BIOBOT_ar_1548_Treatment plant_raw wastewater</td>\n",
       "      <td>Jefferson</td>\n",
       "      <td>05069</td>\n",
       "      <td>42323</td>\n",
       "      <td>2022-09-14</td>\n",
       "      <td>2022-09-28</td>\n",
       "      <td>-98.0</td>\n",
       "      <td>100.0</td>\n",
       "      <td>91.5</td>\n",
       "      <td>no</td>\n",
       "      <td>2022-09-25</td>\n",
       "    </tr>\n",
       "    <tr>\n",
       "      <th>4</th>\n",
       "      <td>Arkansas</td>\n",
       "      <td>1548.0</td>\n",
       "      <td>Arkansas</td>\n",
       "      <td>Treatment plant</td>\n",
       "      <td>NaN</td>\n",
       "      <td>CDC_BIOBOT_ar_1548_Treatment plant_raw wastewater</td>\n",
       "      <td>Jefferson</td>\n",
       "      <td>05069</td>\n",
       "      <td>42323</td>\n",
       "      <td>2022-09-15</td>\n",
       "      <td>2022-09-29</td>\n",
       "      <td>-98.0</td>\n",
       "      <td>100.0</td>\n",
       "      <td>91.5</td>\n",
       "      <td>no</td>\n",
       "      <td>2022-09-25</td>\n",
       "    </tr>\n",
       "    <tr>\n",
       "      <th>...</th>\n",
       "      <td>...</td>\n",
       "      <td>...</td>\n",
       "      <td>...</td>\n",
       "      <td>...</td>\n",
       "      <td>...</td>\n",
       "      <td>...</td>\n",
       "      <td>...</td>\n",
       "      <td>...</td>\n",
       "      <td>...</td>\n",
       "      <td>...</td>\n",
       "      <td>...</td>\n",
       "      <td>...</td>\n",
       "      <td>...</td>\n",
       "      <td>...</td>\n",
       "      <td>...</td>\n",
       "      <td>...</td>\n",
       "    </tr>\n",
       "    <tr>\n",
       "      <th>95</th>\n",
       "      <td>Indiana</td>\n",
       "      <td>1162.0</td>\n",
       "      <td>Indiana</td>\n",
       "      <td>Treatment plant</td>\n",
       "      <td>NaN</td>\n",
       "      <td>CDC_BIOBOT_in_1162_Treatment plant_raw wastewater</td>\n",
       "      <td>Hamilton</td>\n",
       "      <td>18057</td>\n",
       "      <td>98000</td>\n",
       "      <td>2022-07-01</td>\n",
       "      <td>2022-07-15</td>\n",
       "      <td>92.0</td>\n",
       "      <td>100.0</td>\n",
       "      <td>83.6</td>\n",
       "      <td>no</td>\n",
       "      <td>2022-06-01</td>\n",
       "    </tr>\n",
       "    <tr>\n",
       "      <th>96</th>\n",
       "      <td>Indiana</td>\n",
       "      <td>1162.0</td>\n",
       "      <td>Indiana</td>\n",
       "      <td>Treatment plant</td>\n",
       "      <td>NaN</td>\n",
       "      <td>CDC_BIOBOT_in_1162_Treatment plant_raw wastewater</td>\n",
       "      <td>Hamilton</td>\n",
       "      <td>18057</td>\n",
       "      <td>98000</td>\n",
       "      <td>2022-07-02</td>\n",
       "      <td>2022-07-16</td>\n",
       "      <td>92.0</td>\n",
       "      <td>100.0</td>\n",
       "      <td>83.6</td>\n",
       "      <td>no</td>\n",
       "      <td>2022-06-01</td>\n",
       "    </tr>\n",
       "    <tr>\n",
       "      <th>97</th>\n",
       "      <td>Indiana</td>\n",
       "      <td>1162.0</td>\n",
       "      <td>Indiana</td>\n",
       "      <td>Treatment plant</td>\n",
       "      <td>NaN</td>\n",
       "      <td>CDC_BIOBOT_in_1162_Treatment plant_raw wastewater</td>\n",
       "      <td>Hamilton</td>\n",
       "      <td>18057</td>\n",
       "      <td>98000</td>\n",
       "      <td>2022-07-03</td>\n",
       "      <td>2022-07-17</td>\n",
       "      <td>92.0</td>\n",
       "      <td>100.0</td>\n",
       "      <td>83.6</td>\n",
       "      <td>no</td>\n",
       "      <td>2022-06-01</td>\n",
       "    </tr>\n",
       "    <tr>\n",
       "      <th>98</th>\n",
       "      <td>Indiana</td>\n",
       "      <td>1162.0</td>\n",
       "      <td>Indiana</td>\n",
       "      <td>Treatment plant</td>\n",
       "      <td>NaN</td>\n",
       "      <td>CDC_BIOBOT_in_1162_Treatment plant_raw wastewater</td>\n",
       "      <td>Hamilton</td>\n",
       "      <td>18057</td>\n",
       "      <td>98000</td>\n",
       "      <td>2022-07-04</td>\n",
       "      <td>2022-07-18</td>\n",
       "      <td>8.0</td>\n",
       "      <td>100.0</td>\n",
       "      <td>77.2</td>\n",
       "      <td>no</td>\n",
       "      <td>2022-06-01</td>\n",
       "    </tr>\n",
       "    <tr>\n",
       "      <th>99</th>\n",
       "      <td>Indiana</td>\n",
       "      <td>1162.0</td>\n",
       "      <td>Indiana</td>\n",
       "      <td>Treatment plant</td>\n",
       "      <td>NaN</td>\n",
       "      <td>CDC_BIOBOT_in_1162_Treatment plant_raw wastewater</td>\n",
       "      <td>Hamilton</td>\n",
       "      <td>18057</td>\n",
       "      <td>98000</td>\n",
       "      <td>2022-07-05</td>\n",
       "      <td>2022-07-19</td>\n",
       "      <td>-37.0</td>\n",
       "      <td>100.0</td>\n",
       "      <td>77.2</td>\n",
       "      <td>no</td>\n",
       "      <td>2022-06-01</td>\n",
       "    </tr>\n",
       "  </tbody>\n",
       "</table>\n",
       "<p>100 rows × 16 columns</p>\n",
       "</div>"
      ],
      "text/plain": [
       "   wwtp_jurisdiction  wwtp_id reporting_jurisdiction  sample_location  \\\n",
       "0           Arkansas   1548.0               Arkansas  Treatment plant   \n",
       "1           Arkansas   1548.0               Arkansas  Treatment plant   \n",
       "2           Arkansas   1548.0               Arkansas  Treatment plant   \n",
       "3           Arkansas   1548.0               Arkansas  Treatment plant   \n",
       "4           Arkansas   1548.0               Arkansas  Treatment plant   \n",
       "..               ...      ...                    ...              ...   \n",
       "95           Indiana   1162.0                Indiana  Treatment plant   \n",
       "96           Indiana   1162.0                Indiana  Treatment plant   \n",
       "97           Indiana   1162.0                Indiana  Treatment plant   \n",
       "98           Indiana   1162.0                Indiana  Treatment plant   \n",
       "99           Indiana   1162.0                Indiana  Treatment plant   \n",
       "\n",
       "    sample_location_specify  \\\n",
       "0                       NaN   \n",
       "1                       NaN   \n",
       "2                       NaN   \n",
       "3                       NaN   \n",
       "4                       NaN   \n",
       "..                      ...   \n",
       "95                      NaN   \n",
       "96                      NaN   \n",
       "97                      NaN   \n",
       "98                      NaN   \n",
       "99                      NaN   \n",
       "\n",
       "                                          key_plot_id county_names  \\\n",
       "0   CDC_BIOBOT_ar_1548_Treatment plant_raw wastewater    Jefferson   \n",
       "1   CDC_BIOBOT_ar_1548_Treatment plant_raw wastewater    Jefferson   \n",
       "2   CDC_BIOBOT_ar_1548_Treatment plant_raw wastewater    Jefferson   \n",
       "3   CDC_BIOBOT_ar_1548_Treatment plant_raw wastewater    Jefferson   \n",
       "4   CDC_BIOBOT_ar_1548_Treatment plant_raw wastewater    Jefferson   \n",
       "..                                                ...          ...   \n",
       "95  CDC_BIOBOT_in_1162_Treatment plant_raw wastewater     Hamilton   \n",
       "96  CDC_BIOBOT_in_1162_Treatment plant_raw wastewater     Hamilton   \n",
       "97  CDC_BIOBOT_in_1162_Treatment plant_raw wastewater     Hamilton   \n",
       "98  CDC_BIOBOT_in_1162_Treatment plant_raw wastewater     Hamilton   \n",
       "99  CDC_BIOBOT_in_1162_Treatment plant_raw wastewater     Hamilton   \n",
       "\n",
       "   county_fips  population_served  date_start    date_end  ptc_15d  \\\n",
       "0        05069              42323  2022-09-11  2022-09-25      NaN   \n",
       "1        05069              42323  2022-09-12  2022-09-26      NaN   \n",
       "2        05069              42323  2022-09-13  2022-09-27    -98.0   \n",
       "3        05069              42323  2022-09-14  2022-09-28    -98.0   \n",
       "4        05069              42323  2022-09-15  2022-09-29    -98.0   \n",
       "..         ...                ...         ...         ...      ...   \n",
       "95       18057              98000  2022-07-01  2022-07-15     92.0   \n",
       "96       18057              98000  2022-07-02  2022-07-16     92.0   \n",
       "97       18057              98000  2022-07-03  2022-07-17     92.0   \n",
       "98       18057              98000  2022-07-04  2022-07-18      8.0   \n",
       "99       18057              98000  2022-07-05  2022-07-19    -37.0   \n",
       "\n",
       "    detect_prop_15d  percentile sampling_prior first_sample_date  \n",
       "0             100.0       100.0             no        2022-09-25  \n",
       "1             100.0       100.0             no        2022-09-25  \n",
       "2             100.0        91.5             no        2022-09-25  \n",
       "3             100.0        91.5             no        2022-09-25  \n",
       "4             100.0        91.5             no        2022-09-25  \n",
       "..              ...         ...            ...               ...  \n",
       "95            100.0        83.6             no        2022-06-01  \n",
       "96            100.0        83.6             no        2022-06-01  \n",
       "97            100.0        83.6             no        2022-06-01  \n",
       "98            100.0        77.2             no        2022-06-01  \n",
       "99            100.0        77.2             no        2022-06-01  \n",
       "\n",
       "[100 rows x 16 columns]"
      ]
     },
     "execution_count": 102,
     "metadata": {},
     "output_type": "execute_result"
    }
   ],
   "source": [
    "df.head(n=100)"
   ]
  },
  {
   "cell_type": "markdown",
   "id": "b0f6d04d",
   "metadata": {},
   "source": [
    "## 3. Analyzing the Original Dataset"
   ]
  },
  {
   "cell_type": "markdown",
   "id": "fa4659be",
   "metadata": {},
   "source": [
    "### Variable descriptions: \n",
    "- **wwtp_jurisdiction**: US State the wastewater treatment plant in 'wwtp_id' is located\t\n",
    "- **wwtp_id**: Wastewater treatment plants\n",
    "- **reporting_jurisdiction**: The CDC ELC jurisdiction, a state, reporting the data\n",
    "- **sample_location**: Sample collection location in the wastewater system\n",
    "- **sample_location_specify**: \"Upstream\" sample locations\t\n",
    "- **key_plot_id**: geographic area served by sampling sites (sewersheds)\n",
    "- **county_names**: County and county-equivalent names corresponding to the FIPS codes\t\n",
    "- **county_fips**: 5-digit numberic FIP codes all counties and county-equivalents served by the sampling site\t\n",
    "- **population_served**: Estimated number of persons served by the sampling site\t\n",
    "- **date_start**: The start date of the interval over which metric is calculated\n",
    "- **date_end**: The end date of the interval over which metric is calculated\n",
    "- **ptc_15d**: The percent change in SARS-CoV-2 RNA levels over the 15-day interval defined by 'date_start' and 'date_end'\n",
    "- **detect_prop_15d**: The proportion of tests with SARS-CoV-2 detected, meaning a cycle threshold (Ct) value <40 for RT-qPCR or at least 3 positive droplets/partitions for RT-ddPCR, by sewershed over the 15-day window defined by 'date_start' and \"date_end'\n",
    "- **percentile**: This metric shows whether SARS-CoV-2 virus levels at a site are currently higher or lower than past historical levels at the same site. \n",
    "- **sampling_prior**: Indicates whether the site was collecting wastewater samples before or on January 16, 2022.\n",
    "- **first_sample_date**: The first date samples were collected at a site.\n",
    " \n"
   ]
  },
  {
   "cell_type": "markdown",
   "id": "31f9463b",
   "metadata": {},
   "source": [
    "### Basic information of dataset"
   ]
  },
  {
   "cell_type": "code",
   "execution_count": 103,
   "id": "8c990209",
   "metadata": {
    "scrolled": true
   },
   "outputs": [
    {
     "name": "stdout",
     "output_type": "stream",
     "text": [
      "The shape of the data is : (361669, 16)\n"
     ]
    }
   ],
   "source": [
    "print(\"The shape of the data is :\",df.shape)"
   ]
  },
  {
   "cell_type": "markdown",
   "id": "f6e28146",
   "metadata": {},
   "source": [
    "## 4. Cleaning the Original Dataset"
   ]
  },
  {
   "cell_type": "markdown",
   "id": "8e934485",
   "metadata": {},
   "source": [
    "### Changing datatype for columns "
   ]
  },
  {
   "cell_type": "markdown",
   "id": "910a2cf4",
   "metadata": {},
   "source": [
    "Changed data type of columns wwtp_id and sample_location_specify from float64 to object. "
   ]
  },
  {
   "cell_type": "code",
   "execution_count": 104,
   "id": "7dce36c0",
   "metadata": {},
   "outputs": [],
   "source": [
    "change_datatype_wwtp_id = {'wwtp_id': str}\n",
    "df = df.astype(change_datatype_wwtp_id)\n",
    "\n",
    "change_datatype_sample_location_specify = {'sample_location_specify' : str}\n",
    "df = df.astype(change_datatype_sample_location_specify) "
   ]
  },
  {
   "cell_type": "code",
   "execution_count": 105,
   "id": "1298d3d6",
   "metadata": {},
   "outputs": [
    {
     "name": "stdout",
     "output_type": "stream",
     "text": [
      "<class 'pandas.core.frame.DataFrame'>\n",
      "RangeIndex: 361669 entries, 0 to 361668\n",
      "Data columns (total 16 columns):\n",
      " #   Column                   Non-Null Count   Dtype  \n",
      "---  ------                   --------------   -----  \n",
      " 0   wwtp_jurisdiction        361669 non-null  object \n",
      " 1   wwtp_id                  361669 non-null  object \n",
      " 2   reporting_jurisdiction   361669 non-null  object \n",
      " 3   sample_location          361669 non-null  object \n",
      " 4   sample_location_specify  361669 non-null  object \n",
      " 5   key_plot_id              361669 non-null  object \n",
      " 6   county_names             361669 non-null  object \n",
      " 7   county_fips              361669 non-null  object \n",
      " 8   population_served        361669 non-null  int64  \n",
      " 9   date_start               361669 non-null  object \n",
      " 10  date_end                 361669 non-null  object \n",
      " 11  ptc_15d                  324727 non-null  float64\n",
      " 12  detect_prop_15d          344881 non-null  float64\n",
      " 13  percentile               263534 non-null  float64\n",
      " 14  sampling_prior           361669 non-null  object \n",
      " 15  first_sample_date        361669 non-null  object \n",
      "dtypes: float64(3), int64(1), object(12)\n",
      "memory usage: 44.1+ MB\n"
     ]
    }
   ],
   "source": [
    "df.info()"
   ]
  },
  {
   "cell_type": "code",
   "execution_count": 106,
   "id": "82efdfbd",
   "metadata": {
    "scrolled": true
   },
   "outputs": [
    {
     "data": {
      "text/html": [
       "<div>\n",
       "<style scoped>\n",
       "    .dataframe tbody tr th:only-of-type {\n",
       "        vertical-align: middle;\n",
       "    }\n",
       "\n",
       "    .dataframe tbody tr th {\n",
       "        vertical-align: top;\n",
       "    }\n",
       "\n",
       "    .dataframe thead th {\n",
       "        text-align: right;\n",
       "    }\n",
       "</style>\n",
       "<table border=\"1\" class=\"dataframe\">\n",
       "  <thead>\n",
       "    <tr style=\"text-align: right;\">\n",
       "      <th></th>\n",
       "      <th>population_served</th>\n",
       "      <th>ptc_15d</th>\n",
       "      <th>detect_prop_15d</th>\n",
       "      <th>percentile</th>\n",
       "    </tr>\n",
       "  </thead>\n",
       "  <tbody>\n",
       "    <tr>\n",
       "      <th>count</th>\n",
       "      <td>3.616690e+05</td>\n",
       "      <td>3.247270e+05</td>\n",
       "      <td>344881.000000</td>\n",
       "      <td>263534.000000</td>\n",
       "    </tr>\n",
       "    <tr>\n",
       "      <th>mean</th>\n",
       "      <td>1.200851e+05</td>\n",
       "      <td>3.491184e+06</td>\n",
       "      <td>92.062419</td>\n",
       "      <td>68.950996</td>\n",
       "    </tr>\n",
       "    <tr>\n",
       "      <th>std</th>\n",
       "      <td>2.996939e+05</td>\n",
       "      <td>8.230352e+07</td>\n",
       "      <td>21.954981</td>\n",
       "      <td>134.156220</td>\n",
       "    </tr>\n",
       "    <tr>\n",
       "      <th>min</th>\n",
       "      <td>9.000000e+02</td>\n",
       "      <td>-1.000000e+02</td>\n",
       "      <td>0.000000</td>\n",
       "      <td>0.000000</td>\n",
       "    </tr>\n",
       "    <tr>\n",
       "      <th>25%</th>\n",
       "      <td>1.120000e+04</td>\n",
       "      <td>-5.700000e+01</td>\n",
       "      <td>100.000000</td>\n",
       "      <td>32.000000</td>\n",
       "    </tr>\n",
       "    <tr>\n",
       "      <th>50%</th>\n",
       "      <td>3.071400e+04</td>\n",
       "      <td>0.000000e+00</td>\n",
       "      <td>100.000000</td>\n",
       "      <td>51.667000</td>\n",
       "    </tr>\n",
       "    <tr>\n",
       "      <th>75%</th>\n",
       "      <td>9.285000e+04</td>\n",
       "      <td>1.290000e+02</td>\n",
       "      <td>100.000000</td>\n",
       "      <td>70.000000</td>\n",
       "    </tr>\n",
       "    <tr>\n",
       "      <th>max</th>\n",
       "      <td>4.000000e+06</td>\n",
       "      <td>2.147484e+09</td>\n",
       "      <td>100.000000</td>\n",
       "      <td>999.000000</td>\n",
       "    </tr>\n",
       "  </tbody>\n",
       "</table>\n",
       "</div>"
      ],
      "text/plain": [
       "       population_served       ptc_15d  detect_prop_15d     percentile\n",
       "count       3.616690e+05  3.247270e+05    344881.000000  263534.000000\n",
       "mean        1.200851e+05  3.491184e+06        92.062419      68.950996\n",
       "std         2.996939e+05  8.230352e+07        21.954981     134.156220\n",
       "min         9.000000e+02 -1.000000e+02         0.000000       0.000000\n",
       "25%         1.120000e+04 -5.700000e+01       100.000000      32.000000\n",
       "50%         3.071400e+04  0.000000e+00       100.000000      51.667000\n",
       "75%         9.285000e+04  1.290000e+02       100.000000      70.000000\n",
       "max         4.000000e+06  2.147484e+09       100.000000     999.000000"
      ]
     },
     "execution_count": 106,
     "metadata": {},
     "output_type": "execute_result"
    }
   ],
   "source": [
    "df.describe()"
   ]
  },
  {
   "cell_type": "markdown",
   "id": "6ea36d85",
   "metadata": {},
   "source": [
    "### Removing outliers "
   ]
  },
  {
   "cell_type": "markdown",
   "id": "c363c3c8",
   "metadata": {},
   "source": [
    "Percentile Column has a max of 999.00, which should not be possible. We will check how many values in that column are over 100, which should be the maximum percentile logically. "
   ]
  },
  {
   "cell_type": "code",
   "execution_count": 107,
   "id": "fe008463",
   "metadata": {},
   "outputs": [
    {
     "data": {
      "text/html": [
       "<div>\n",
       "<style scoped>\n",
       "    .dataframe tbody tr th:only-of-type {\n",
       "        vertical-align: middle;\n",
       "    }\n",
       "\n",
       "    .dataframe tbody tr th {\n",
       "        vertical-align: top;\n",
       "    }\n",
       "\n",
       "    .dataframe thead th {\n",
       "        text-align: right;\n",
       "    }\n",
       "</style>\n",
       "<table border=\"1\" class=\"dataframe\">\n",
       "  <thead>\n",
       "    <tr style=\"text-align: right;\">\n",
       "      <th></th>\n",
       "      <th>population_served</th>\n",
       "      <th>ptc_15d</th>\n",
       "      <th>detect_prop_15d</th>\n",
       "      <th>percentile</th>\n",
       "    </tr>\n",
       "  </thead>\n",
       "  <tbody>\n",
       "    <tr>\n",
       "      <th>count</th>\n",
       "      <td>5208.000000</td>\n",
       "      <td>1.484000e+03</td>\n",
       "      <td>2431.000000</td>\n",
       "      <td>5208.0</td>\n",
       "    </tr>\n",
       "    <tr>\n",
       "      <th>mean</th>\n",
       "      <td>57320.741935</td>\n",
       "      <td>4.064048e+07</td>\n",
       "      <td>92.370218</td>\n",
       "      <td>999.0</td>\n",
       "    </tr>\n",
       "    <tr>\n",
       "      <th>std</th>\n",
       "      <td>87840.618859</td>\n",
       "      <td>2.922678e+08</td>\n",
       "      <td>23.757856</td>\n",
       "      <td>0.0</td>\n",
       "    </tr>\n",
       "    <tr>\n",
       "      <th>min</th>\n",
       "      <td>3000.000000</td>\n",
       "      <td>-1.000000e+02</td>\n",
       "      <td>0.000000</td>\n",
       "      <td>999.0</td>\n",
       "    </tr>\n",
       "    <tr>\n",
       "      <th>25%</th>\n",
       "      <td>6108.000000</td>\n",
       "      <td>-7.200000e+01</td>\n",
       "      <td>100.000000</td>\n",
       "      <td>999.0</td>\n",
       "    </tr>\n",
       "    <tr>\n",
       "      <th>50%</th>\n",
       "      <td>25000.000000</td>\n",
       "      <td>-6.000000e+00</td>\n",
       "      <td>100.000000</td>\n",
       "      <td>999.0</td>\n",
       "    </tr>\n",
       "    <tr>\n",
       "      <th>75%</th>\n",
       "      <td>55000.000000</td>\n",
       "      <td>2.520000e+02</td>\n",
       "      <td>100.000000</td>\n",
       "      <td>999.0</td>\n",
       "    </tr>\n",
       "    <tr>\n",
       "      <th>max</th>\n",
       "      <td>564563.000000</td>\n",
       "      <td>2.147484e+09</td>\n",
       "      <td>100.000000</td>\n",
       "      <td>999.0</td>\n",
       "    </tr>\n",
       "  </tbody>\n",
       "</table>\n",
       "</div>"
      ],
      "text/plain": [
       "       population_served       ptc_15d  detect_prop_15d  percentile\n",
       "count        5208.000000  1.484000e+03      2431.000000      5208.0\n",
       "mean        57320.741935  4.064048e+07        92.370218       999.0\n",
       "std         87840.618859  2.922678e+08        23.757856         0.0\n",
       "min          3000.000000 -1.000000e+02         0.000000       999.0\n",
       "25%          6108.000000 -7.200000e+01       100.000000       999.0\n",
       "50%         25000.000000 -6.000000e+00       100.000000       999.0\n",
       "75%         55000.000000  2.520000e+02       100.000000       999.0\n",
       "max        564563.000000  2.147484e+09       100.000000       999.0"
      ]
     },
     "execution_count": 107,
     "metadata": {},
     "output_type": "execute_result"
    }
   ],
   "source": [
    "percentile_outliers = df[df.percentile > 100]\n",
    "percentile_outliers.describe()"
   ]
  },
  {
   "cell_type": "markdown",
   "id": "1c6c4602",
   "metadata": {},
   "source": [
    "### Removing unnecessary columns "
   ]
  },
  {
   "cell_type": "markdown",
   "id": "1a291409",
   "metadata": {},
   "source": [
    "We need to drop the percentile column outliers so that they do not skew the data. "
   ]
  },
  {
   "cell_type": "code",
   "execution_count": 108,
   "id": "be7e098c",
   "metadata": {},
   "outputs": [
    {
     "data": {
      "text/html": [
       "<div>\n",
       "<style scoped>\n",
       "    .dataframe tbody tr th:only-of-type {\n",
       "        vertical-align: middle;\n",
       "    }\n",
       "\n",
       "    .dataframe tbody tr th {\n",
       "        vertical-align: top;\n",
       "    }\n",
       "\n",
       "    .dataframe thead th {\n",
       "        text-align: right;\n",
       "    }\n",
       "</style>\n",
       "<table border=\"1\" class=\"dataframe\">\n",
       "  <thead>\n",
       "    <tr style=\"text-align: right;\">\n",
       "      <th></th>\n",
       "      <th>population_served</th>\n",
       "      <th>ptc_15d</th>\n",
       "      <th>detect_prop_15d</th>\n",
       "      <th>percentile</th>\n",
       "    </tr>\n",
       "  </thead>\n",
       "  <tbody>\n",
       "    <tr>\n",
       "      <th>count</th>\n",
       "      <td>3.564610e+05</td>\n",
       "      <td>3.232430e+05</td>\n",
       "      <td>342450.000000</td>\n",
       "      <td>258326.000000</td>\n",
       "    </tr>\n",
       "    <tr>\n",
       "      <th>mean</th>\n",
       "      <td>1.210021e+05</td>\n",
       "      <td>3.320633e+06</td>\n",
       "      <td>92.060234</td>\n",
       "      <td>50.200675</td>\n",
       "    </tr>\n",
       "    <tr>\n",
       "      <th>std</th>\n",
       "      <td>3.015917e+05</td>\n",
       "      <td>8.004189e+07</td>\n",
       "      <td>21.941675</td>\n",
       "      <td>23.882641</td>\n",
       "    </tr>\n",
       "    <tr>\n",
       "      <th>min</th>\n",
       "      <td>9.000000e+02</td>\n",
       "      <td>-1.000000e+02</td>\n",
       "      <td>0.000000</td>\n",
       "      <td>0.000000</td>\n",
       "    </tr>\n",
       "    <tr>\n",
       "      <th>25%</th>\n",
       "      <td>1.130000e+04</td>\n",
       "      <td>-5.700000e+01</td>\n",
       "      <td>100.000000</td>\n",
       "      <td>31.667000</td>\n",
       "    </tr>\n",
       "    <tr>\n",
       "      <th>50%</th>\n",
       "      <td>3.071400e+04</td>\n",
       "      <td>0.000000e+00</td>\n",
       "      <td>100.000000</td>\n",
       "      <td>51.000000</td>\n",
       "    </tr>\n",
       "    <tr>\n",
       "      <th>75%</th>\n",
       "      <td>9.285000e+04</td>\n",
       "      <td>1.280000e+02</td>\n",
       "      <td>100.000000</td>\n",
       "      <td>69.000000</td>\n",
       "    </tr>\n",
       "    <tr>\n",
       "      <th>max</th>\n",
       "      <td>4.000000e+06</td>\n",
       "      <td>2.147484e+09</td>\n",
       "      <td>100.000000</td>\n",
       "      <td>100.000000</td>\n",
       "    </tr>\n",
       "  </tbody>\n",
       "</table>\n",
       "</div>"
      ],
      "text/plain": [
       "       population_served       ptc_15d  detect_prop_15d     percentile\n",
       "count       3.564610e+05  3.232430e+05    342450.000000  258326.000000\n",
       "mean        1.210021e+05  3.320633e+06        92.060234      50.200675\n",
       "std         3.015917e+05  8.004189e+07        21.941675      23.882641\n",
       "min         9.000000e+02 -1.000000e+02         0.000000       0.000000\n",
       "25%         1.130000e+04 -5.700000e+01       100.000000      31.667000\n",
       "50%         3.071400e+04  0.000000e+00       100.000000      51.000000\n",
       "75%         9.285000e+04  1.280000e+02       100.000000      69.000000\n",
       "max         4.000000e+06  2.147484e+09       100.000000     100.000000"
      ]
     },
     "execution_count": 108,
     "metadata": {},
     "output_type": "execute_result"
    }
   ],
   "source": [
    "df.drop(df[df['percentile'] > 100].index, inplace = True)\n",
    "df.describe()"
   ]
  },
  {
   "cell_type": "code",
   "execution_count": 109,
   "id": "a70f118d",
   "metadata": {},
   "outputs": [
    {
     "data": {
      "text/plain": [
       "wwtp_jurisdiction              0\n",
       "wwtp_id                        0\n",
       "reporting_jurisdiction         0\n",
       "sample_location                0\n",
       "sample_location_specify        0\n",
       "key_plot_id                    0\n",
       "county_names                   0\n",
       "county_fips                    0\n",
       "population_served              0\n",
       "date_start                     0\n",
       "date_end                       0\n",
       "ptc_15d                    33218\n",
       "detect_prop_15d            14011\n",
       "percentile                 98135\n",
       "sampling_prior                 0\n",
       "first_sample_date              0\n",
       "dtype: int64"
      ]
     },
     "execution_count": 109,
     "metadata": {},
     "output_type": "execute_result"
    }
   ],
   "source": [
    "df.isnull().sum()"
   ]
  },
  {
   "cell_type": "markdown",
   "id": "922d1e67",
   "metadata": {},
   "source": [
    "### Converting column date datatype"
   ]
  },
  {
   "cell_type": "markdown",
   "id": "0fe53ba7",
   "metadata": {},
   "source": [
    "Convert columns with dates from string object to date data type, which will let us sort and filter by date:"
   ]
  },
  {
   "cell_type": "code",
   "execution_count": 110,
   "id": "c739ba12",
   "metadata": {},
   "outputs": [],
   "source": [
    "df['date_start'] = pd.to_datetime(df['date_start'])\n",
    "df['date_end'] = pd.to_datetime(df['date_end'])\n",
    "df['first_sample_date'] = pd.to_datetime(df['first_sample_date'])"
   ]
  },
  {
   "cell_type": "markdown",
   "id": "7ea69e77",
   "metadata": {},
   "source": [
    "Make sure that dates are no longer strings:"
   ]
  },
  {
   "cell_type": "code",
   "execution_count": 111,
   "id": "ad5f60fa",
   "metadata": {},
   "outputs": [
    {
     "name": "stdout",
     "output_type": "stream",
     "text": [
      "<class 'pandas.core.frame.DataFrame'>\n",
      "Int64Index: 356461 entries, 0 to 361668\n",
      "Data columns (total 16 columns):\n",
      " #   Column                   Non-Null Count   Dtype         \n",
      "---  ------                   --------------   -----         \n",
      " 0   wwtp_jurisdiction        356461 non-null  object        \n",
      " 1   wwtp_id                  356461 non-null  object        \n",
      " 2   reporting_jurisdiction   356461 non-null  object        \n",
      " 3   sample_location          356461 non-null  object        \n",
      " 4   sample_location_specify  356461 non-null  object        \n",
      " 5   key_plot_id              356461 non-null  object        \n",
      " 6   county_names             356461 non-null  object        \n",
      " 7   county_fips              356461 non-null  object        \n",
      " 8   population_served        356461 non-null  int64         \n",
      " 9   date_start               356461 non-null  datetime64[ns]\n",
      " 10  date_end                 356461 non-null  datetime64[ns]\n",
      " 11  ptc_15d                  323243 non-null  float64       \n",
      " 12  detect_prop_15d          342450 non-null  float64       \n",
      " 13  percentile               258326 non-null  float64       \n",
      " 14  sampling_prior           356461 non-null  object        \n",
      " 15  first_sample_date        356461 non-null  datetime64[ns]\n",
      "dtypes: datetime64[ns](3), float64(3), int64(1), object(9)\n",
      "memory usage: 46.2+ MB\n"
     ]
    }
   ],
   "source": [
    "df.info()\n",
    "# We can see they now have the Dtype 'datetime64'"
   ]
  },
  {
   "cell_type": "markdown",
   "id": "622ee45e",
   "metadata": {},
   "source": [
    "Covid19 cases reached a historical high, or \"spike\", January 16, 2022. Many wastewater testing sides were not collecting yet at that time. We will now filter out rows that have a \"first_sample_date\" value that is after January 16, 2022. "
   ]
  },
  {
   "cell_type": "markdown",
   "id": "38b64556",
   "metadata": {},
   "source": [
    "## 5. Data Visualization "
   ]
  },
  {
   "cell_type": "markdown",
   "id": "9d414f81",
   "metadata": {},
   "source": [
    "### Boxplot"
   ]
  },
  {
   "cell_type": "markdown",
   "id": "c08890b8",
   "metadata": {},
   "source": [
    "**IQR Boxplot for percentile column** NOT FINISHED - look into including data of boxplot only for 1/16/22 percentile to hopefully represent spike indicated in CDC's reported cases - ALSO add IQR calculations??? "
   ]
  },
  {
   "cell_type": "code",
   "execution_count": 112,
   "id": "0d0f0695",
   "metadata": {},
   "outputs": [
    {
     "data": {
      "image/png": "[encoded data removed]",
      "text/plain": [
       "<Figure size 640x480 with 1 Axes>"
      ]
     },
     "metadata": {},
     "output_type": "display_data"
    }
   ],
   "source": [
    "df.boxplot('percentile')\n",
    "plt.show()"
   ]
  },
  {
   "cell_type": "code",
   "execution_count": 113,
   "id": "4fab1dc8",
   "metadata": {},
   "outputs": [],
   "source": [
    "spike = pd.to_datetime('1/16/2022')"
   ]
  },
  {
   "cell_type": "code",
   "execution_count": 114,
   "id": "15d0eb31",
   "metadata": {},
   "outputs": [],
   "source": [
    "recorded_spike = df.loc[df.first_sample_date <= spike, :] #This data frame will only include rows with collection sites that \n",
    "#were recording before the spike\n",
    "\n",
    "did_not_record_spike = df.loc[df.first_sample_date > spike, :] #This data frame will only include rows with collection sites that do not \n",
    "#have the spike on record because they started recording afterward."
   ]
  },
  {
   "cell_type": "markdown",
   "id": "f6213be4",
   "metadata": {},
   "source": [
    "Now we check to make sure that the filters worked correctly:"
   ]
  },
  {
   "cell_type": "code",
   "execution_count": 115,
   "id": "f14e3cf0",
   "metadata": {},
   "outputs": [
    {
     "data": {
      "text/html": [
       "<div>\n",
       "<style scoped>\n",
       "    .dataframe tbody tr th:only-of-type {\n",
       "        vertical-align: middle;\n",
       "    }\n",
       "\n",
       "    .dataframe tbody tr th {\n",
       "        vertical-align: top;\n",
       "    }\n",
       "\n",
       "    .dataframe thead th {\n",
       "        text-align: right;\n",
       "    }\n",
       "</style>\n",
       "<table border=\"1\" class=\"dataframe\">\n",
       "  <thead>\n",
       "    <tr style=\"text-align: right;\">\n",
       "      <th></th>\n",
       "      <th>wwtp_jurisdiction</th>\n",
       "      <th>wwtp_id</th>\n",
       "      <th>reporting_jurisdiction</th>\n",
       "      <th>sample_location</th>\n",
       "      <th>sample_location_specify</th>\n",
       "      <th>key_plot_id</th>\n",
       "      <th>county_names</th>\n",
       "      <th>county_fips</th>\n",
       "      <th>population_served</th>\n",
       "      <th>date_start</th>\n",
       "      <th>date_end</th>\n",
       "      <th>ptc_15d</th>\n",
       "      <th>detect_prop_15d</th>\n",
       "      <th>percentile</th>\n",
       "      <th>sampling_prior</th>\n",
       "      <th>first_sample_date</th>\n",
       "    </tr>\n",
       "  </thead>\n",
       "  <tbody>\n",
       "    <tr>\n",
       "      <th>335769</th>\n",
       "      <td>Ohio</td>\n",
       "      <td>74.0</td>\n",
       "      <td>Ohio</td>\n",
       "      <td>Treatment plant</td>\n",
       "      <td>nan</td>\n",
       "      <td>NWSS_oh_74_Treatment plant_raw wastewater</td>\n",
       "      <td>Crawford</td>\n",
       "      <td>39033</td>\n",
       "      <td>12362</td>\n",
       "      <td>2022-04-03</td>\n",
       "      <td>2022-04-17</td>\n",
       "      <td>167.0</td>\n",
       "      <td>0.0</td>\n",
       "      <td>10.8</td>\n",
       "      <td>no</td>\n",
       "      <td>2022-01-16</td>\n",
       "    </tr>\n",
       "    <tr>\n",
       "      <th>108041</th>\n",
       "      <td>Ohio</td>\n",
       "      <td>157.0</td>\n",
       "      <td>Ohio</td>\n",
       "      <td>Treatment plant</td>\n",
       "      <td>nan</td>\n",
       "      <td>NWSS_oh_157_Treatment plant_raw wastewater</td>\n",
       "      <td>Sandusky</td>\n",
       "      <td>39143</td>\n",
       "      <td>25000</td>\n",
       "      <td>2022-07-03</td>\n",
       "      <td>2022-07-17</td>\n",
       "      <td>773.0</td>\n",
       "      <td>100.0</td>\n",
       "      <td>74.5</td>\n",
       "      <td>no</td>\n",
       "      <td>2022-01-16</td>\n",
       "    </tr>\n",
       "    <tr>\n",
       "      <th>335871</th>\n",
       "      <td>Ohio</td>\n",
       "      <td>74.0</td>\n",
       "      <td>Ohio</td>\n",
       "      <td>Treatment plant</td>\n",
       "      <td>nan</td>\n",
       "      <td>NWSS_oh_74_Treatment plant_raw wastewater</td>\n",
       "      <td>Crawford</td>\n",
       "      <td>39033</td>\n",
       "      <td>12362</td>\n",
       "      <td>2022-07-14</td>\n",
       "      <td>2022-07-28</td>\n",
       "      <td>-37.0</td>\n",
       "      <td>100.0</td>\n",
       "      <td>75.0</td>\n",
       "      <td>no</td>\n",
       "      <td>2022-01-16</td>\n",
       "    </tr>\n",
       "    <tr>\n",
       "      <th>335870</th>\n",
       "      <td>Ohio</td>\n",
       "      <td>74.0</td>\n",
       "      <td>Ohio</td>\n",
       "      <td>Treatment plant</td>\n",
       "      <td>nan</td>\n",
       "      <td>NWSS_oh_74_Treatment plant_raw wastewater</td>\n",
       "      <td>Crawford</td>\n",
       "      <td>39033</td>\n",
       "      <td>12362</td>\n",
       "      <td>2022-07-13</td>\n",
       "      <td>2022-07-27</td>\n",
       "      <td>-37.0</td>\n",
       "      <td>100.0</td>\n",
       "      <td>75.0</td>\n",
       "      <td>no</td>\n",
       "      <td>2022-01-16</td>\n",
       "    </tr>\n",
       "    <tr>\n",
       "      <th>335869</th>\n",
       "      <td>Ohio</td>\n",
       "      <td>74.0</td>\n",
       "      <td>Ohio</td>\n",
       "      <td>Treatment plant</td>\n",
       "      <td>nan</td>\n",
       "      <td>NWSS_oh_74_Treatment plant_raw wastewater</td>\n",
       "      <td>Crawford</td>\n",
       "      <td>39033</td>\n",
       "      <td>12362</td>\n",
       "      <td>2022-07-12</td>\n",
       "      <td>2022-07-26</td>\n",
       "      <td>-37.0</td>\n",
       "      <td>100.0</td>\n",
       "      <td>75.0</td>\n",
       "      <td>no</td>\n",
       "      <td>2022-01-16</td>\n",
       "    </tr>\n",
       "  </tbody>\n",
       "</table>\n",
       "</div>"
      ],
      "text/plain": [
       "       wwtp_jurisdiction wwtp_id reporting_jurisdiction  sample_location  \\\n",
       "335769              Ohio    74.0                   Ohio  Treatment plant   \n",
       "108041              Ohio   157.0                   Ohio  Treatment plant   \n",
       "335871              Ohio    74.0                   Ohio  Treatment plant   \n",
       "335870              Ohio    74.0                   Ohio  Treatment plant   \n",
       "335869              Ohio    74.0                   Ohio  Treatment plant   \n",
       "\n",
       "       sample_location_specify                                 key_plot_id  \\\n",
       "335769                     nan   NWSS_oh_74_Treatment plant_raw wastewater   \n",
       "108041                     nan  NWSS_oh_157_Treatment plant_raw wastewater   \n",
       "335871                     nan   NWSS_oh_74_Treatment plant_raw wastewater   \n",
       "335870                     nan   NWSS_oh_74_Treatment plant_raw wastewater   \n",
       "335869                     nan   NWSS_oh_74_Treatment plant_raw wastewater   \n",
       "\n",
       "       county_names county_fips  population_served date_start   date_end  \\\n",
       "335769     Crawford       39033              12362 2022-04-03 2022-04-17   \n",
       "108041     Sandusky       39143              25000 2022-07-03 2022-07-17   \n",
       "335871     Crawford       39033              12362 2022-07-14 2022-07-28   \n",
       "335870     Crawford       39033              12362 2022-07-13 2022-07-27   \n",
       "335869     Crawford       39033              12362 2022-07-12 2022-07-26   \n",
       "\n",
       "        ptc_15d  detect_prop_15d  percentile sampling_prior first_sample_date  \n",
       "335769    167.0              0.0        10.8             no        2022-01-16  \n",
       "108041    773.0            100.0        74.5             no        2022-01-16  \n",
       "335871    -37.0            100.0        75.0             no        2022-01-16  \n",
       "335870    -37.0            100.0        75.0             no        2022-01-16  \n",
       "335869    -37.0            100.0        75.0             no        2022-01-16  "
      ]
     },
     "execution_count": 115,
     "metadata": {},
     "output_type": "execute_result"
    }
   ],
   "source": [
    "recorded_spike.sort_values(by='first_sample_date', ascending = False).head()\n",
    "#We see here that by sorting by \"first_sample_date\" and showing the most recent values that they have the value of 1/13/22"
   ]
  },
  {
   "cell_type": "markdown",
   "id": "efbdd4df",
   "metadata": {},
   "source": [
    "**Recorded Spike Boxplot**"
   ]
  },
  {
   "cell_type": "code",
   "execution_count": 130,
   "id": "47604d39",
   "metadata": {},
   "outputs": [
    {
     "data": {
      "image/png": "[encoded data removed]",
      "text/plain": [
       "<Figure size 640x480 with 1 Axes>"
      ]
     },
     "metadata": {},
     "output_type": "display_data"
    },
    {
     "data": {
      "image/png": "[encoded data removed]",
      "text/plain": [
       "<Figure size 640x480 with 1 Axes>"
      ]
     },
     "metadata": {},
     "output_type": "display_data"
    }
   ],
   "source": [
    "recorded_spike.boxplot('percentile')\n",
    "plt.show()\n",
    "\n",
    "did_not_record_spike.boxplot('percentile')\n",
    "plt.show()"
   ]
  },
  {
   "cell_type": "code",
   "execution_count": 117,
   "id": "d3ce8340",
   "metadata": {},
   "outputs": [
    {
     "data": {
      "text/html": [
       "<div>\n",
       "<style scoped>\n",
       "    .dataframe tbody tr th:only-of-type {\n",
       "        vertical-align: middle;\n",
       "    }\n",
       "\n",
       "    .dataframe tbody tr th {\n",
       "        vertical-align: top;\n",
       "    }\n",
       "\n",
       "    .dataframe thead th {\n",
       "        text-align: right;\n",
       "    }\n",
       "</style>\n",
       "<table border=\"1\" class=\"dataframe\">\n",
       "  <thead>\n",
       "    <tr style=\"text-align: right;\">\n",
       "      <th></th>\n",
       "      <th>population_served</th>\n",
       "      <th>ptc_15d</th>\n",
       "      <th>detect_prop_15d</th>\n",
       "      <th>percentile</th>\n",
       "    </tr>\n",
       "  </thead>\n",
       "  <tbody>\n",
       "    <tr>\n",
       "      <th>count</th>\n",
       "      <td>2.136590e+05</td>\n",
       "      <td>1.943610e+05</td>\n",
       "      <td>205886.000000</td>\n",
       "      <td>124371.000000</td>\n",
       "    </tr>\n",
       "    <tr>\n",
       "      <th>mean</th>\n",
       "      <td>1.179479e+05</td>\n",
       "      <td>1.962520e+06</td>\n",
       "      <td>91.873522</td>\n",
       "      <td>50.503940</td>\n",
       "    </tr>\n",
       "    <tr>\n",
       "      <th>std</th>\n",
       "      <td>3.048360e+05</td>\n",
       "      <td>6.052247e+07</td>\n",
       "      <td>22.264982</td>\n",
       "      <td>25.246412</td>\n",
       "    </tr>\n",
       "    <tr>\n",
       "      <th>min</th>\n",
       "      <td>2.273000e+03</td>\n",
       "      <td>-1.000000e+02</td>\n",
       "      <td>0.000000</td>\n",
       "      <td>0.000000</td>\n",
       "    </tr>\n",
       "    <tr>\n",
       "      <th>25%</th>\n",
       "      <td>1.130000e+04</td>\n",
       "      <td>-6.000000e+01</td>\n",
       "      <td>100.000000</td>\n",
       "      <td>30.457000</td>\n",
       "    </tr>\n",
       "    <tr>\n",
       "      <th>50%</th>\n",
       "      <td>3.225500e+04</td>\n",
       "      <td>-1.000000e+00</td>\n",
       "      <td>100.000000</td>\n",
       "      <td>51.200000</td>\n",
       "    </tr>\n",
       "    <tr>\n",
       "      <th>75%</th>\n",
       "      <td>9.500000e+04</td>\n",
       "      <td>1.430000e+02</td>\n",
       "      <td>100.000000</td>\n",
       "      <td>70.500000</td>\n",
       "    </tr>\n",
       "    <tr>\n",
       "      <th>max</th>\n",
       "      <td>4.000000e+06</td>\n",
       "      <td>2.147484e+09</td>\n",
       "      <td>100.000000</td>\n",
       "      <td>100.000000</td>\n",
       "    </tr>\n",
       "  </tbody>\n",
       "</table>\n",
       "</div>"
      ],
      "text/plain": [
       "       population_served       ptc_15d  detect_prop_15d     percentile\n",
       "count       2.136590e+05  1.943610e+05    205886.000000  124371.000000\n",
       "mean        1.179479e+05  1.962520e+06        91.873522      50.503940\n",
       "std         3.048360e+05  6.052247e+07        22.264982      25.246412\n",
       "min         2.273000e+03 -1.000000e+02         0.000000       0.000000\n",
       "25%         1.130000e+04 -6.000000e+01       100.000000      30.457000\n",
       "50%         3.225500e+04 -1.000000e+00       100.000000      51.200000\n",
       "75%         9.500000e+04  1.430000e+02       100.000000      70.500000\n",
       "max         4.000000e+06  2.147484e+09       100.000000     100.000000"
      ]
     },
     "execution_count": 117,
     "metadata": {},
     "output_type": "execute_result"
    }
   ],
   "source": [
    "recorded_spike.describe()"
   ]
  },
  {
   "cell_type": "code",
   "execution_count": 118,
   "id": "a62989d4",
   "metadata": {},
   "outputs": [
    {
     "data": {
      "text/html": [
       "<div>\n",
       "<style scoped>\n",
       "    .dataframe tbody tr th:only-of-type {\n",
       "        vertical-align: middle;\n",
       "    }\n",
       "\n",
       "    .dataframe tbody tr th {\n",
       "        vertical-align: top;\n",
       "    }\n",
       "\n",
       "    .dataframe thead th {\n",
       "        text-align: right;\n",
       "    }\n",
       "</style>\n",
       "<table border=\"1\" class=\"dataframe\">\n",
       "  <thead>\n",
       "    <tr style=\"text-align: right;\">\n",
       "      <th></th>\n",
       "      <th>wwtp_jurisdiction</th>\n",
       "      <th>wwtp_id</th>\n",
       "      <th>reporting_jurisdiction</th>\n",
       "      <th>sample_location</th>\n",
       "      <th>sample_location_specify</th>\n",
       "      <th>key_plot_id</th>\n",
       "      <th>county_names</th>\n",
       "      <th>county_fips</th>\n",
       "      <th>population_served</th>\n",
       "      <th>date_start</th>\n",
       "      <th>date_end</th>\n",
       "      <th>ptc_15d</th>\n",
       "      <th>detect_prop_15d</th>\n",
       "      <th>percentile</th>\n",
       "      <th>sampling_prior</th>\n",
       "      <th>first_sample_date</th>\n",
       "    </tr>\n",
       "  </thead>\n",
       "  <tbody>\n",
       "    <tr>\n",
       "      <th>262466</th>\n",
       "      <td>Wisconsin</td>\n",
       "      <td>313.0</td>\n",
       "      <td>Wisconsin</td>\n",
       "      <td>Treatment plant</td>\n",
       "      <td>nan</td>\n",
       "      <td>NWSS_wi_313_Treatment plant_raw wastewater</td>\n",
       "      <td>Marinette</td>\n",
       "      <td>55075</td>\n",
       "      <td>3500</td>\n",
       "      <td>2022-10-14</td>\n",
       "      <td>2022-10-28</td>\n",
       "      <td>7.0</td>\n",
       "      <td>100.0</td>\n",
       "      <td>73.667</td>\n",
       "      <td>no</td>\n",
       "      <td>2022-01-17</td>\n",
       "    </tr>\n",
       "    <tr>\n",
       "      <th>4228</th>\n",
       "      <td>Ohio</td>\n",
       "      <td>315.0</td>\n",
       "      <td>Ohio</td>\n",
       "      <td>Treatment plant</td>\n",
       "      <td>nan</td>\n",
       "      <td>NWSS_oh_315_Treatment plant_raw wastewater</td>\n",
       "      <td>Miami</td>\n",
       "      <td>39109</td>\n",
       "      <td>20581</td>\n",
       "      <td>2022-01-12</td>\n",
       "      <td>2022-01-26</td>\n",
       "      <td>-78.0</td>\n",
       "      <td>100.0</td>\n",
       "      <td>92.000</td>\n",
       "      <td>no</td>\n",
       "      <td>2022-01-17</td>\n",
       "    </tr>\n",
       "    <tr>\n",
       "      <th>4229</th>\n",
       "      <td>Ohio</td>\n",
       "      <td>315.0</td>\n",
       "      <td>Ohio</td>\n",
       "      <td>Treatment plant</td>\n",
       "      <td>nan</td>\n",
       "      <td>NWSS_oh_315_Treatment plant_raw wastewater</td>\n",
       "      <td>Miami</td>\n",
       "      <td>39109</td>\n",
       "      <td>20581</td>\n",
       "      <td>2022-01-13</td>\n",
       "      <td>2022-01-27</td>\n",
       "      <td>-78.0</td>\n",
       "      <td>100.0</td>\n",
       "      <td>92.000</td>\n",
       "      <td>no</td>\n",
       "      <td>2022-01-17</td>\n",
       "    </tr>\n",
       "    <tr>\n",
       "      <th>4230</th>\n",
       "      <td>Ohio</td>\n",
       "      <td>315.0</td>\n",
       "      <td>Ohio</td>\n",
       "      <td>Treatment plant</td>\n",
       "      <td>nan</td>\n",
       "      <td>NWSS_oh_315_Treatment plant_raw wastewater</td>\n",
       "      <td>Miami</td>\n",
       "      <td>39109</td>\n",
       "      <td>20581</td>\n",
       "      <td>2022-01-14</td>\n",
       "      <td>2022-01-28</td>\n",
       "      <td>-78.0</td>\n",
       "      <td>100.0</td>\n",
       "      <td>92.000</td>\n",
       "      <td>no</td>\n",
       "      <td>2022-01-17</td>\n",
       "    </tr>\n",
       "    <tr>\n",
       "      <th>4231</th>\n",
       "      <td>Ohio</td>\n",
       "      <td>315.0</td>\n",
       "      <td>Ohio</td>\n",
       "      <td>Treatment plant</td>\n",
       "      <td>nan</td>\n",
       "      <td>NWSS_oh_315_Treatment plant_raw wastewater</td>\n",
       "      <td>Miami</td>\n",
       "      <td>39109</td>\n",
       "      <td>20581</td>\n",
       "      <td>2022-01-15</td>\n",
       "      <td>2022-01-29</td>\n",
       "      <td>-78.0</td>\n",
       "      <td>100.0</td>\n",
       "      <td>92.000</td>\n",
       "      <td>no</td>\n",
       "      <td>2022-01-17</td>\n",
       "    </tr>\n",
       "  </tbody>\n",
       "</table>\n",
       "</div>"
      ],
      "text/plain": [
       "       wwtp_jurisdiction wwtp_id reporting_jurisdiction  sample_location  \\\n",
       "262466         Wisconsin   313.0              Wisconsin  Treatment plant   \n",
       "4228                Ohio   315.0                   Ohio  Treatment plant   \n",
       "4229                Ohio   315.0                   Ohio  Treatment plant   \n",
       "4230                Ohio   315.0                   Ohio  Treatment plant   \n",
       "4231                Ohio   315.0                   Ohio  Treatment plant   \n",
       "\n",
       "       sample_location_specify                                 key_plot_id  \\\n",
       "262466                     nan  NWSS_wi_313_Treatment plant_raw wastewater   \n",
       "4228                       nan  NWSS_oh_315_Treatment plant_raw wastewater   \n",
       "4229                       nan  NWSS_oh_315_Treatment plant_raw wastewater   \n",
       "4230                       nan  NWSS_oh_315_Treatment plant_raw wastewater   \n",
       "4231                       nan  NWSS_oh_315_Treatment plant_raw wastewater   \n",
       "\n",
       "       county_names county_fips  population_served date_start   date_end  \\\n",
       "262466    Marinette       55075               3500 2022-10-14 2022-10-28   \n",
       "4228          Miami       39109              20581 2022-01-12 2022-01-26   \n",
       "4229          Miami       39109              20581 2022-01-13 2022-01-27   \n",
       "4230          Miami       39109              20581 2022-01-14 2022-01-28   \n",
       "4231          Miami       39109              20581 2022-01-15 2022-01-29   \n",
       "\n",
       "        ptc_15d  detect_prop_15d  percentile sampling_prior first_sample_date  \n",
       "262466      7.0            100.0      73.667             no        2022-01-17  \n",
       "4228      -78.0            100.0      92.000             no        2022-01-17  \n",
       "4229      -78.0            100.0      92.000             no        2022-01-17  \n",
       "4230      -78.0            100.0      92.000             no        2022-01-17  \n",
       "4231      -78.0            100.0      92.000             no        2022-01-17  "
      ]
     },
     "execution_count": 118,
     "metadata": {},
     "output_type": "execute_result"
    }
   ],
   "source": [
    "did_not_record_spike.sort_values(by='first_sample_date').head()\n",
    "#We see here that by sorting by \"first_sample_date\" and showing the oldest values that the earliest \"first_sample_date\"\n",
    "#in this group is 1/16/22, which was after the spike. This means our filters worked correctly, and our variables hold \n",
    "#the correct data. "
   ]
  },
  {
   "cell_type": "code",
   "execution_count": 119,
   "id": "97201877",
   "metadata": {
    "scrolled": true
   },
   "outputs": [
    {
     "data": {
      "text/html": [
       "<div>\n",
       "<style scoped>\n",
       "    .dataframe tbody tr th:only-of-type {\n",
       "        vertical-align: middle;\n",
       "    }\n",
       "\n",
       "    .dataframe tbody tr th {\n",
       "        vertical-align: top;\n",
       "    }\n",
       "\n",
       "    .dataframe thead th {\n",
       "        text-align: right;\n",
       "    }\n",
       "</style>\n",
       "<table border=\"1\" class=\"dataframe\">\n",
       "  <thead>\n",
       "    <tr style=\"text-align: right;\">\n",
       "      <th></th>\n",
       "      <th>population_served</th>\n",
       "      <th>ptc_15d</th>\n",
       "      <th>detect_prop_15d</th>\n",
       "      <th>percentile</th>\n",
       "    </tr>\n",
       "  </thead>\n",
       "  <tbody>\n",
       "    <tr>\n",
       "      <th>count</th>\n",
       "      <td>1.428020e+05</td>\n",
       "      <td>1.288820e+05</td>\n",
       "      <td>136564.000000</td>\n",
       "      <td>133955.000000</td>\n",
       "    </tr>\n",
       "    <tr>\n",
       "      <th>mean</th>\n",
       "      <td>1.255719e+05</td>\n",
       "      <td>5.368741e+06</td>\n",
       "      <td>92.341723</td>\n",
       "      <td>49.919109</td>\n",
       "    </tr>\n",
       "    <tr>\n",
       "      <th>std</th>\n",
       "      <td>2.966138e+05</td>\n",
       "      <td>1.026523e+08</td>\n",
       "      <td>21.442050</td>\n",
       "      <td>22.539145</td>\n",
       "    </tr>\n",
       "    <tr>\n",
       "      <th>min</th>\n",
       "      <td>9.000000e+02</td>\n",
       "      <td>-1.000000e+02</td>\n",
       "      <td>0.000000</td>\n",
       "      <td>0.000000</td>\n",
       "    </tr>\n",
       "    <tr>\n",
       "      <th>25%</th>\n",
       "      <td>1.124600e+04</td>\n",
       "      <td>-5.100000e+01</td>\n",
       "      <td>100.000000</td>\n",
       "      <td>32.500000</td>\n",
       "    </tr>\n",
       "    <tr>\n",
       "      <th>50%</th>\n",
       "      <td>3.047900e+04</td>\n",
       "      <td>0.000000e+00</td>\n",
       "      <td>100.000000</td>\n",
       "      <td>50.800000</td>\n",
       "    </tr>\n",
       "    <tr>\n",
       "      <th>75%</th>\n",
       "      <td>9.047400e+04</td>\n",
       "      <td>1.090000e+02</td>\n",
       "      <td>100.000000</td>\n",
       "      <td>67.667000</td>\n",
       "    </tr>\n",
       "    <tr>\n",
       "      <th>max</th>\n",
       "      <td>4.000000e+06</td>\n",
       "      <td>2.147484e+09</td>\n",
       "      <td>100.000000</td>\n",
       "      <td>100.000000</td>\n",
       "    </tr>\n",
       "  </tbody>\n",
       "</table>\n",
       "</div>"
      ],
      "text/plain": [
       "       population_served       ptc_15d  detect_prop_15d     percentile\n",
       "count       1.428020e+05  1.288820e+05    136564.000000  133955.000000\n",
       "mean        1.255719e+05  5.368741e+06        92.341723      49.919109\n",
       "std         2.966138e+05  1.026523e+08        21.442050      22.539145\n",
       "min         9.000000e+02 -1.000000e+02         0.000000       0.000000\n",
       "25%         1.124600e+04 -5.100000e+01       100.000000      32.500000\n",
       "50%         3.047900e+04  0.000000e+00       100.000000      50.800000\n",
       "75%         9.047400e+04  1.090000e+02       100.000000      67.667000\n",
       "max         4.000000e+06  2.147484e+09       100.000000     100.000000"
      ]
     },
     "execution_count": 119,
     "metadata": {},
     "output_type": "execute_result"
    }
   ],
   "source": [
    "did_not_record_spike.describe()"
   ]
  },
  {
   "cell_type": "markdown",
   "id": "1193660d",
   "metadata": {},
   "source": [
    "## Scatterplot  Please ignore my weird code I'm trying to figure this out"
   ]
  },
  {
   "cell_type": "code",
   "execution_count": 120,
   "id": "290ae23a",
   "metadata": {},
   "outputs": [
    {
     "data": {
      "text/plain": [
       "[<matplotlib.lines.Line2D at 0x1cb16c493a0>]"
      ]
     },
     "execution_count": 283,
     "metadata": {},
     "output_type": "execute_result"
    },
    {
     "data": {
      "image/png": "[encoded data removed]",
      "text/plain": [
       "<Figure size 648x504 with 1 Axes>"
      ]
     },
     "metadata": {},
     "output_type": "display_data"
    }
   ],
   "source": [
    "#scatterplot\n",
    "# percentile_did_not_record_spike = did_not_record_spike.percentile.quantile(.75)\n",
    "# print(percentile_did_not_record_spike)\n",
    "\n",
    "# rcParams['figure.figsize'] = 9,7\n",
    "# plt.axvline(50, c=('#CDE6F7'), ls='--')\n",
    "# plt.axhline(50, c=('#CDE6F7'), ls='--')\n",
    "# plt.scatter(recorded_spike.percentile.head(n=1000))\n",
    "\n",
    "# sns.set(style='whitegrid')\n",
    "\n",
    " \n",
    "# sns.scatterplot(x=\"first_sample_date\",\n",
    "#                     y=\"county_names\",\n",
    "#                     hue=\"percentile\",\n",
    "           \n",
    "#                     data=recorded_spike.head(n=20000))\n",
    "\n",
    "# grid = sns.FacetGrid(recorded_spike.head(n=1000), col = \"county_names\", hue = \"percentile\", col_wrap=5)\n",
    "# grid.map(sns.scatterplot, \"first_sample_date\", \"detect_prop_15d\")\n",
    "\n",
    "# grid.add_legend()\n",
    "   \n",
    "# plt.show()\n",
    "x1 = recorded_spike.percentile.tail(n=1000).loc['2022-10-15':'2022-11-15']\n",
    "y1 = did_not_record_spike.percentile.tail(n=1000).loc['2022-10-15':'2022-11-15']\n",
    "x2 = recorded_spike.date_end.tail(n=1000).loc['2022-10-15':'2022-11-15']\n",
    "y2 = did_not_record_spike.date_end.tail(n=1000).loc['2022-10-15':'2022-11-15']\n",
    "plt.plot(x1,y1, linewidth=4)\n",
    "plt.plot(x2,y2, linewidth=4)\n",
    "\n"
   ]
  },
  {
   "cell_type": "code",
   "execution_count": 121,
   "id": "beb8c083",
   "metadata": {
    "scrolled": false
   },
   "outputs": [
    {
     "data": {
      "text/html": [
       "<div>\n",
       "<style scoped>\n",
       "    .dataframe tbody tr th:only-of-type {\n",
       "        vertical-align: middle;\n",
       "    }\n",
       "\n",
       "    .dataframe tbody tr th {\n",
       "        vertical-align: top;\n",
       "    }\n",
       "\n",
       "    .dataframe thead th {\n",
       "        text-align: right;\n",
       "    }\n",
       "</style>\n",
       "<table border=\"1\" class=\"dataframe\">\n",
       "  <thead>\n",
       "    <tr style=\"text-align: right;\">\n",
       "      <th></th>\n",
       "      <th>population_served</th>\n",
       "      <th>ptc_15d</th>\n",
       "      <th>detect_prop_15d</th>\n",
       "      <th>percentile</th>\n",
       "    </tr>\n",
       "  </thead>\n",
       "  <tbody>\n",
       "    <tr>\n",
       "      <th>count</th>\n",
       "      <td>2.136590e+05</td>\n",
       "      <td>1.943610e+05</td>\n",
       "      <td>205886.000000</td>\n",
       "      <td>124371.000000</td>\n",
       "    </tr>\n",
       "    <tr>\n",
       "      <th>mean</th>\n",
       "      <td>1.179479e+05</td>\n",
       "      <td>1.962520e+06</td>\n",
       "      <td>91.873522</td>\n",
       "      <td>50.503940</td>\n",
       "    </tr>\n",
       "    <tr>\n",
       "      <th>std</th>\n",
       "      <td>3.048360e+05</td>\n",
       "      <td>6.052247e+07</td>\n",
       "      <td>22.264982</td>\n",
       "      <td>25.246412</td>\n",
       "    </tr>\n",
       "    <tr>\n",
       "      <th>min</th>\n",
       "      <td>2.273000e+03</td>\n",
       "      <td>-1.000000e+02</td>\n",
       "      <td>0.000000</td>\n",
       "      <td>0.000000</td>\n",
       "    </tr>\n",
       "    <tr>\n",
       "      <th>25%</th>\n",
       "      <td>1.130000e+04</td>\n",
       "      <td>-6.000000e+01</td>\n",
       "      <td>100.000000</td>\n",
       "      <td>30.457000</td>\n",
       "    </tr>\n",
       "    <tr>\n",
       "      <th>50%</th>\n",
       "      <td>3.225500e+04</td>\n",
       "      <td>-1.000000e+00</td>\n",
       "      <td>100.000000</td>\n",
       "      <td>51.200000</td>\n",
       "    </tr>\n",
       "    <tr>\n",
       "      <th>75%</th>\n",
       "      <td>9.500000e+04</td>\n",
       "      <td>1.430000e+02</td>\n",
       "      <td>100.000000</td>\n",
       "      <td>70.500000</td>\n",
       "    </tr>\n",
       "    <tr>\n",
       "      <th>max</th>\n",
       "      <td>4.000000e+06</td>\n",
       "      <td>2.147484e+09</td>\n",
       "      <td>100.000000</td>\n",
       "      <td>100.000000</td>\n",
       "    </tr>\n",
       "  </tbody>\n",
       "</table>\n",
       "</div>"
      ],
      "text/plain": [
       "       population_served       ptc_15d  detect_prop_15d     percentile\n",
       "count       2.136590e+05  1.943610e+05    205886.000000  124371.000000\n",
       "mean        1.179479e+05  1.962520e+06        91.873522      50.503940\n",
       "std         3.048360e+05  6.052247e+07        22.264982      25.246412\n",
       "min         2.273000e+03 -1.000000e+02         0.000000       0.000000\n",
       "25%         1.130000e+04 -6.000000e+01       100.000000      30.457000\n",
       "50%         3.225500e+04 -1.000000e+00       100.000000      51.200000\n",
       "75%         9.500000e+04  1.430000e+02       100.000000      70.500000\n",
       "max         4.000000e+06  2.147484e+09       100.000000     100.000000"
      ]
     },
     "execution_count": 121,
     "metadata": {},
     "output_type": "execute_result"
    }
   ],
   "source": [
    "recorded_spike.describe()"
   ]
  },
  {
   "cell_type": "code",
   "execution_count": 122,
   "id": "a17a32f3",
   "metadata": {},
   "outputs": [],
   "source": [
    "#scatterplot\n",
    "# percentile_recorded_spike = recorded_spike.percentile.quantile(.75)\n",
    "# print(percentile_recorded_spike)"
   ]
  },
  {
   "cell_type": "markdown",
   "id": "3ee31c88",
   "metadata": {},
   "source": [
    "What percent of these sites have been collecting samples since before the spike? First we have to find out how many unique testing locations are in each group- those that recorded the spike and those that didnt:"
   ]
  },
  {
   "cell_type": "code",
   "execution_count": 285,
   "id": "2906d47c",
   "metadata": {},
   "outputs": [
    {
     "name": "stdout",
     "output_type": "stream",
     "text": [
      "Unique testing locations that have been recording since before the spike:  370\n",
      "\n",
      "Unique testing locations that have been recording since before the spike:  722\n"
     ]
    }
   ],
   "source": [
    "unique_before_spike = len(recorded_spike['wwtp_id'].unique().tolist())\n",
    "print('Unique testing locations that have been recording since before the spike: ',unique_before_spike)\n",
    "print()\n",
    "unique_after_spike = len(did_not_record_spike['wwtp_id'].unique().tolist())\n",
    "print('Unique testing locations that have been recording since before the spike: ', unique_after_spike)"
   ]
  },
  {
   "cell_type": "markdown",
   "id": "ff3a818a",
   "metadata": {},
   "source": [
    "As we can see, we have 370 testing sites that recorded the "
   ]
  },
  {
   "cell_type": "markdown",
   "id": "27665e64",
   "metadata": {},
   "source": [
    "### Pie Chart"
   ]
  },
  {
   "cell_type": "markdown",
   "id": "77fbe901",
   "metadata": {},
   "source": [
    "Pie chart **here** w/labels that represent those numbers  "
   ]
  },
  {
   "cell_type": "code",
   "execution_count": 286,
   "id": "39cba994",   
   "metadata": {},
   "outputs": [
    {
     "data": {
      "image/png": "[encoded data removed]",
      "text/plain": [
       "<Figure size 648x504 with 1 Axes>"
      ]
     },
     "metadata": {},
     "output_type": "display_data"
    }
   ],
   "source": [
    "y = np.array([unique_before_spike, unique_after_spike])\n",
    "mylabels = [\"Facilities that started recording before the spike\", \"Facilities that started recording after the spike\"]\n",
    "myexplode = [.01, 0.1]\n",
    "mycolors = [\"c\", \"m\"]\n",
    "\n",
    "plt.pie(y, labels = mylabels, explode = myexplode, colors = mycolors, startangle = 90, autopct='%1.1f%%')\n",
    "plt.legend()\n",
    "plt.show()"
   ]
  },
  {
   "cell_type": "markdown",
   "id": "b0fa308b",
   "metadata": {},
   "source": [
    "Now we will look at the most recent test results, starting with October 1, 2022."
   ]
  },
  {
   "cell_type": "code",
   "execution_count": 125,
   "id": "6f95d9b9",
   "metadata": {},
   "outputs": [],
   "source": [
    "recent = pd.to_datetime('10/01/2022') #defining \"recent\" as October 1st, 2022"
   ]
  },
  {
   "cell_type": "markdown",
   "id": "39fa071b",
   "metadata": {},
   "source": [
    "We will create a data frame for recent tests from the sites that did record the spike:"
   ]
  },
  {
   "cell_type": "code",
   "execution_count": 126,
   "id": "484505b6",
   "metadata": {},
   "outputs": [],
   "source": [
    "recent_test_recorded_spike = recorded_spike.loc[recorded_spike.date_start >= recent, :] "
   ]
  },
  {
   "cell_type": "markdown",
   "id": "0c4f8681",
   "metadata": {},
   "source": [
    "Now we will create a data frame for recent tests from the sites that did not record the spike:"
   ]
  },
  {
   "cell_type": "code",
   "execution_count": 127,
   "id": "2f990977",
   "metadata": {},
   "outputs": [],
   "source": [
    "recent_test_did_not_record_spike = did_not_record_spike.loc[did_not_record_spike.date_start >= recent, :]"
   ]
  },
  {
   "cell_type": "markdown",
   "id": "2c9f7b82",
   "metadata": {},
   "source": [
    "## Questions and Interpretations"
   ]
  },
  {
   "cell_type": "markdown",
   "id": "5ddb049a",
   "metadata": {},
   "source": [
    "Question: Did not recording the very high case counts during the spike affect the percentile values for testing sites that did not record high case counts previously? "
   ]
  },
  {
   "cell_type": "code",
   "execution_count": 128,
   "id": "f03726a2",
   "metadata": {},
   "outputs": [
    {
     "name": "stdout",
     "output_type": "stream",
     "text": [
      "Recent percentile mean for sites that did record the spike:  39.14579910278916\n",
      "\n",
      "We can see that for testing sites that recorded very high values previously that current levels are still quite low in comparison\n"
     ]
    }
   ],
   "source": [
    "print('Recent percentile mean for sites that did record the spike: ',recent_test_recorded_spike.percentile.mean())\n",
    "print()\n",
    "print('We can see that for testing sites that recorded very high values previously that current levels are still quite \\\n",
    "low in comparison')"
   ]
  },
  {
   "cell_type": "code",
   "execution_count": 129,
   "id": "ce0bf73b",
   "metadata": {},
   "outputs": [
    {
     "name": "stdout",
     "output_type": "stream",
     "text": [
      "Recent percentile mean for sites that did not record the spike:  39.9480762063692\n",
      "\n",
      "We can see that for testing sites that did not record very high values previously that current levels are quite high in comparison\n"
     ]
    }
   ],
   "source": [
    "print('Recent percentile mean for sites that did not record the spike: ',recent_test_did_not_record_spike.percentile.mean())\n",
    "print()\n",
    "print('We can see that for testing sites that did not record very high values previously that current levels \\\n",
    "are quite high in comparison')"
   ]
  },
  {
   "cell_type": "markdown",
   "id": "1d976e1f",
   "metadata": {},
   "source": [
    "## Conclusion"
   ]
  }
 ],
 "metadata": {
  "kernelspec": {
   "display_name": "Python 3 (ipykernel)",
   "language": "python",
   "name": "python3"
  },
  "language_info": {
   "codemirror_mode": {
    "name": "ipython",
    "version": 3
   },
   "file_extension": ".py",
   "mimetype": "text/x-python",
   "name": "python",
   "nbconvert_exporter": "python",
   "pygments_lexer": "ipython3",
   "version": "3.9.12"
  }
 },
 "nbformat": 4,
 "nbformat_minor": 5
}
